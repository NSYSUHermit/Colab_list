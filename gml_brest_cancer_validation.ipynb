{
  "nbformat": 4,
  "nbformat_minor": 0,
  "metadata": {
    "colab": {
      "name": "gml_brest_cancer_validation.ipynb",
      "provenance": [],
      "collapsed_sections": [],
      "toc_visible": true,
      "authorship_tag": "ABX9TyO6lwWRgfpNspdU4Pty+SQA",
      "include_colab_link": true
    },
    "kernelspec": {
      "name": "python3",
      "display_name": "Python 3"
    },
    "accelerator": "TPU"
  },
  "cells": [
    {
      "cell_type": "markdown",
      "metadata": {
        "id": "view-in-github",
        "colab_type": "text"
      },
      "source": [
        "<a href=\"https://colab.research.google.com/github/NSYSUHermit/Colab_list/blob/master/gml_brest_cancer_validation.ipynb\" target=\"_parent\"><img src=\"https://colab.research.google.com/assets/colab-badge.svg\" alt=\"Open In Colab\"/></a>"
      ]
    },
    {
      "cell_type": "markdown",
      "metadata": {
        "id": "9c8zb8dYmeUp",
        "colab_type": "text"
      },
      "source": [
        "# Intro: GML"
      ]
    },
    {
      "cell_type": "markdown",
      "metadata": {
        "id": "6n2TPbbDmeC7",
        "colab_type": "text"
      },
      "source": [
        "這次來測試自動化機器學習套件：Ghalat Machine Learning，  \n",
        "主要針對回歸問題與分類問題的自動化學習。 \n",
        "\n",
        "\n",
        "目前套件具有以下功能：   \n",
        "1.自動特徵工程  \n",
        "2.自動選擇機器學習和神經網路模型  \n",
        "3.自動超參數調校  \n",
        "4.排序模型效果（根據交叉驗證分數）  \n",
        "5.推薦最佳模型  \n",
        "\n",
        "\n",
        "我將使用UCI breast cancer dataset(sklearn dataset)來測試此套件for分類的效果以及使用情況。\n",
        "\n",
        "\n",
        "套件作者Github：https://github.com/Muhammad4hmed/Ghalat-Machine-Learning   \n",
        "Pypl套件說明： https://s0pypi0org.icopy.site/project/GML/2.0.2/"
      ]
    },
    {
      "cell_type": "markdown",
      "metadata": {
        "id": "M8kQgGVlsKmR",
        "colab_type": "text"
      },
      "source": [
        "# Colab Setting"
      ]
    },
    {
      "cell_type": "code",
      "metadata": {
        "id": "y4szifp5lWCo",
        "colab_type": "code",
        "colab": {}
      },
      "source": [
        "!pip install -U -q PyDrive\n",
        "from pydrive.auth import GoogleAuth\n",
        "from pydrive.drive import GoogleDrive\n",
        "from google.colab import auth\n",
        "from oauth2client.client import GoogleCredentials\n",
        "import pandas as pd\n",
        "# Authenticate and create the PyDrive client.\n",
        "auth.authenticate_user()\n",
        "gauth = GoogleAuth()\n",
        "gauth.credentials = GoogleCredentials.get_application_default()\n",
        "drive = GoogleDrive(gauth)"
      ],
      "execution_count": null,
      "outputs": []
    },
    {
      "cell_type": "markdown",
      "metadata": {
        "id": "OiUWFSIPsEwr",
        "colab_type": "text"
      },
      "source": [
        "# Import and Install Modules\n"
      ]
    },
    {
      "cell_type": "code",
      "metadata": {
        "id": "0_-KzO6umrke",
        "colab_type": "code",
        "colab": {}
      },
      "source": [
        "# install some modules\n",
        "!pip install GML\n",
        "!pip install category_encoders"
      ],
      "execution_count": null,
      "outputs": []
    },
    {
      "cell_type": "code",
      "metadata": {
        "id": "l0wQLlrSmgqR",
        "colab_type": "code",
        "colab": {}
      },
      "source": [
        "import numpy as np # linear algebra\n",
        "import pandas as pd # data processing, CSV file I/O (e.g. pd.read_csv)\n",
        "from sklearn import datasets\n",
        "from GML.Ghalat_Machine_Learning import Ghalat_Machine_Learning\n",
        "from sklearn.model_selection import train_test_split\n",
        "import matplotlib.pyplot as plt"
      ],
      "execution_count": null,
      "outputs": []
    },
    {
      "cell_type": "markdown",
      "metadata": {
        "id": "1Zb67EeQsSQd",
        "colab_type": "text"
      },
      "source": [
        "# Data Analysis\n",
        "\n"
      ]
    },
    {
      "cell_type": "markdown",
      "metadata": {
        "id": "v5-dPkiTsVi2",
        "colab_type": "text"
      },
      "source": [
        "## Import Data\n",
        "利用sklearn中的breast cancer資料來試驗看看。\n",
        "我將資料30%當作訓練資料，測試資料集保留70%。"
      ]
    },
    {
      "cell_type": "code",
      "metadata": {
        "id": "GmTUdTjhnJMf",
        "colab_type": "code",
        "colab": {}
      },
      "source": [
        "breast_cancer = datasets.load_breast_cancer()\n",
        "df_x = pd.DataFrame(breast_cancer.data)\n",
        "df_y = pd.DataFrame(breast_cancer.target)\n",
        "df_x.columns = breast_cancer.feature_names\n",
        "df_y.columns = np.array(['label'])\n",
        "df = pd.concat([df_x,df_y],axis=1)\n",
        "X_train, X_test, y_train, y_test = train_test_split(df_x, df_y, test_size=0.7, random_state=1)"
      ],
      "execution_count": null,
      "outputs": []
    },
    {
      "cell_type": "code",
      "metadata": {
        "id": "8M1LpBCJ1idI",
        "colab_type": "code",
        "colab": {
          "base_uri": "https://localhost:8080/",
          "height": 50
        },
        "outputId": "ba9d0e88-e6e7-44a1-99ae-f99220c6eba0"
      },
      "source": [
        "print(X_train.shape)\n",
        "print(X_test.shape)"
      ],
      "execution_count": null,
      "outputs": [
        {
          "output_type": "stream",
          "text": [
            "(170, 30)\n",
            "(399, 30)\n"
          ],
          "name": "stdout"
        }
      ]
    },
    {
      "cell_type": "markdown",
      "metadata": {
        "id": "mdobRLWzsaZw",
        "colab_type": "text"
      },
      "source": [
        "## Data Visualization"
      ]
    },
    {
      "cell_type": "markdown",
      "metadata": {
        "id": "_WLVMsSasmKe",
        "colab_type": "text"
      },
      "source": [
        "Label 為 0 的是惡性腫瘤患者，1為良性腫瘤，人數比為: 212位:357位\n"
      ]
    },
    {
      "cell_type": "code",
      "metadata": {
        "id": "RA5neNX8sbvD",
        "colab_type": "code",
        "colab": {
          "base_uri": "https://localhost:8080/",
          "height": 293
        },
        "outputId": "67878af3-5066-458f-ec76-4bcd2b548496"
      },
      "source": [
        "%matplotlib inline\n",
        "by_fraud = df_y.groupby('label')\n",
        "by_fraud.size().plot(kind = 'bar')"
      ],
      "execution_count": null,
      "outputs": [
        {
          "output_type": "execute_result",
          "data": {
            "text/plain": [
              "<matplotlib.axes._subplots.AxesSubplot at 0x7f70bb9e2860>"
            ]
          },
          "metadata": {
            "tags": []
          },
          "execution_count": 6
        },
        {
          "output_type": "display_data",
          "data": {
            "image/png": "[encoded data removed]",
            "text/plain": [
              "<Figure size 432x288 with 1 Axes>"
            ]
          },
          "metadata": {
            "tags": [],
            "needs_background": "light"
          }
        }
      ]
    },
    {
      "cell_type": "markdown",
      "metadata": {
        "id": "BdVy5oIbsgJ1",
        "colab_type": "text"
      },
      "source": [
        "從下圖可看出，惡性腫瘤之平均半徑要比楊性腫瘤來的更大。"
      ]
    },
    {
      "cell_type": "code",
      "metadata": {
        "id": "Akxz63puseY9",
        "colab_type": "code",
        "colab": {
          "base_uri": "https://localhost:8080/",
          "height": 318
        },
        "outputId": "e56f42b2-5e1b-4ce0-cdd6-3445d70012a6"
      },
      "source": [
        "fig,axes = plt.subplots()\n",
        "\n",
        "df.boxplot(column='mean radius',by=['label'],ax=axes)\n",
        "axes.set_title(' ')\n",
        "axes.set_ylabel('mean radius')\n",
        "axes.set_figure"
      ],
      "execution_count": null,
      "outputs": [
        {
          "output_type": "execute_result",
          "data": {
            "text/plain": [
              "<bound method _AxesBase.set_figure of <matplotlib.axes._subplots.AxesSubplot object at 0x7f000c283128>>"
            ]
          },
          "metadata": {
            "tags": []
          },
          "execution_count": 24
        },
        {
          "output_type": "display_data",
          "data": {
            "image/png": "[encoded data removed]",
            "text/plain": [
              "<Figure size 432x288 with 1 Axes>"
            ]
          },
          "metadata": {
            "tags": [],
            "needs_background": "light"
          }
        }
      ]
    },
    {
      "cell_type": "markdown",
      "metadata": {
        "id": "0F8y1K7KspWv",
        "colab_type": "text"
      },
      "source": [
        "## GML:Auto Feature Engineering\n",
        "自動進行特徵工程，能(簡易的)補缺失值，並新增一些交互作用項當作新的特徵。"
      ]
    },
    {
      "cell_type": "code",
      "metadata": {
        "id": "zcMlWTkYnrt0",
        "colab_type": "code",
        "colab": {
          "base_uri": "https://localhost:8080/",
          "height": 1000
        },
        "outputId": "a281770d-06d3-402d-e9ea-2c7fb0861225"
      },
      "source": [
        "gml = Ghalat_Machine_Learning()\n",
        "# It may cost pretty long time\n",
        "new_X,y,new_Test_X = gml.Auto_Feature_Engineering(X_train,y_train,type_of_task='Classification',test_data=X_test,splits=6,fill_na_='median',ratio_drop=0.2,generate_features=True,feateng_steps=2)"
      ],
      "execution_count": null,
      "outputs": [
        {
          "output_type": "stream",
          "text": [
            "Welcome to Ghalat Machine Learning!\n",
            "\n",
            "All models are set to train\n",
            "         Have a tea and leave everything on us ;-)\n",
            "************************************************************ \n",
            "Successfully dealt with missing data!\n",
            "\n",
            "X:\n",
            "\n",
            "      mean radius  mean texture  ...  worst symmetry  worst fractal dimension\n",
            "299       10.510         23.09  ...          0.2227                  0.06777\n",
            "116        8.950         15.76  ...          0.1652                  0.07722\n",
            "212       28.110         18.47  ...          0.1648                  0.05525\n",
            "548        9.683         19.34  ...          0.2552                  0.07920\n",
            "553        9.333         21.94  ...          0.2435                  0.07393\n",
            "..           ...           ...  ...             ...                      ...\n",
            "129       19.790         25.12  ...          0.3305                  0.08465\n",
            "144       10.750         14.97  ...          0.2300                  0.06769\n",
            "72        17.200         24.52  ...          0.3313                  0.13390\n",
            "235       14.030         21.25  ...          0.2226                  0.07617\n",
            "37        13.030         18.42  ...          0.1987                  0.06169\n",
            "\n",
            "[170 rows x 30 columns] \n",
            "Test Data:\n",
            "\n",
            "      mean radius  mean texture  ...  worst symmetry  worst fractal dimension\n",
            "421        14.69         13.98  ...          0.2827                  0.09208\n",
            "47         13.17         18.66  ...          0.3900                  0.11790\n",
            "292        12.95         16.02  ...          0.3380                  0.09584\n",
            "186        18.31         18.58  ...          0.3206                  0.06938\n",
            "414        15.13         29.81  ...          0.3233                  0.06165\n",
            "..           ...           ...  ...             ...                      ...\n",
            "137        11.43         15.39  ...          0.2676                  0.06765\n",
            "24         16.65         21.38  ...          0.3613                  0.09564\n",
            "184        15.28         22.41  ...          0.3175                  0.09772\n",
            "205        15.12         16.68  ...          0.3415                  0.09740\n",
            "134        18.45         21.91  ...          0.3109                  0.07610\n",
            "\n",
            "[399 rows x 30 columns] \n",
            "\n",
            " ************************************************************\n",
            "\n",
            " ************************************************************ \n",
            "Successfully encoded categorical data with Target Mean Encoding using Stratified KFolds technique!\n",
            "\n",
            " X:\n",
            "\n",
            "      mean radius  mean texture  ...  worst symmetry  worst fractal dimension\n",
            "299       10.510         23.09  ...          0.2227                  0.06777\n",
            "116        8.950         15.76  ...          0.1652                  0.07722\n",
            "212       28.110         18.47  ...          0.1648                  0.05525\n",
            "548        9.683         19.34  ...          0.2552                  0.07920\n",
            "553        9.333         21.94  ...          0.2435                  0.07393\n",
            "..           ...           ...  ...             ...                      ...\n",
            "129       19.790         25.12  ...          0.3305                  0.08465\n",
            "144       10.750         14.97  ...          0.2300                  0.06769\n",
            "72        17.200         24.52  ...          0.3313                  0.13390\n",
            "235       14.030         21.25  ...          0.2226                  0.07617\n",
            "37        13.030         18.42  ...          0.1987                  0.06169\n",
            "\n",
            "[170 rows x 30 columns] \n",
            "\n",
            "Test Data:\n",
            "\n",
            "      mean radius  mean texture  ...  worst symmetry  worst fractal dimension\n",
            "421        14.69         13.98  ...          0.2827                  0.09208\n",
            "47         13.17         18.66  ...          0.3900                  0.11790\n",
            "292        12.95         16.02  ...          0.3380                  0.09584\n",
            "186        18.31         18.58  ...          0.3206                  0.06938\n",
            "414        15.13         29.81  ...          0.3233                  0.06165\n",
            "..           ...           ...  ...             ...                      ...\n",
            "137        11.43         15.39  ...          0.2676                  0.06765\n",
            "24         16.65         21.38  ...          0.3613                  0.09564\n",
            "184        15.28         22.41  ...          0.3175                  0.09772\n",
            "205        15.12         16.68  ...          0.3415                  0.09740\n",
            "134        18.45         21.91  ...          0.3109                  0.07610\n",
            "\n",
            "[399 rows x 30 columns] \n",
            "\n",
            " ************************************************************\n",
            "\n",
            " ************************************************************ \n",
            " Generating new features !\n",
            " ************************************************************\n",
            "[AutoFeat] The 2 step feature engineering process could generate up to 22155 features.\n",
            "[AutoFeat] With 170 data points this new feature matrix would use about 0.02 gb of space.\n",
            "[feateng] Step 1: transformation of original features\n",
            "[feateng] Generated 156 transformed features from 30 original features - done.\n",
            "[feateng] Step 2: first combination of features\n",
            "[feateng] Generated 16704 feature combinations from 17205 original feature tuples - done.\n",
            "[feateng] Generated altogether 17288 new features in 2 steps\n",
            "[feateng] Removing correlated features, as well as additions at the highest level\n",
            "[feateng] Generated a total of 7393 additional features\n",
            "[featsel] Scaling data...done.\n",
            "[Parallel(n_jobs=-1)]: Using backend LokyBackend with 2 concurrent workers.\n",
            "[Parallel(n_jobs=-1)]: Done   1 tasks      | elapsed:  2.8min\n",
            "[Parallel(n_jobs=-1)]: Done   2 tasks      | elapsed:  2.9min\n",
            "[Parallel(n_jobs=-1)]: Done   3 out of   5 | elapsed:  5.9min remaining:  3.9min\n",
            "[Parallel(n_jobs=-1)]: Done   5 out of   5 | elapsed:  7.6min remaining:    0.0s\n",
            "[Parallel(n_jobs=-1)]: Done   5 out of   5 | elapsed:  7.6min finished\n",
            "[featsel] 23 features after 5 feature selection runs\n",
            "[featsel] 10 features after correlation filtering\n",
            "[featsel] 6 features after noise filtering\n",
            "[AutoFeat] Computing 5 new features.\n",
            "[AutoFeat]     5/    5 new features ...done.\n",
            "[AutoFeat] Final dataframe with 35 feature columns (5 new).\n",
            "[AutoFeat] Training final classification model.\n",
            "[AutoFeat] Trained model: largest coefficients:\n",
            "[46.46843964]\n",
            "3.617637 * exp(worstsymmetry)*log(worstarea)\n",
            "0.929314 * worst concave points\n",
            "0.634299 * sqrt(worsttexture)*log(areaerror)\n",
            "0.552498 * sqrt(meanconcavepoints)*worsttexture\n",
            "0.173833 * meanradius/worstperimeter\n",
            "0.095766 * 1/(worstarea*worstfractaldimension)\n",
            "[AutoFeat] Final score: 0.9882\n",
            "[AutoFeat] Computing 5 new features.\n",
            "[AutoFeat]     5/    5 new features ...done.\n",
            "\n",
            " ************************************************************ \n",
            "Successfully generated new features! and selected the best features\n",
            "\n",
            " X:\n",
            "\n",
            "      mean radius  ...  1/(worstarea*worstfractaldimension)\n",
            "0         10.510  ...                             0.040683\n",
            "1          8.950  ...                             0.047963\n",
            "2         28.110  ...                             0.007243\n",
            "3          9.683  ...                             0.034668\n",
            "4          9.333  ...                             0.045728\n",
            "..           ...  ...                                  ...\n",
            "165       19.790  ...                             0.007434\n",
            "166       10.750  ...                             0.033484\n",
            "167       17.200  ...                             0.004443\n",
            "168       14.030  ...                             0.018349\n",
            "169       13.030  ...                             0.029694\n",
            "\n",
            "[170 rows x 35 columns] \n",
            "\n",
            "Test Data:\n",
            "\n",
            "      mean radius  ...  1/(worstarea*worstfractaldimension)\n",
            "0          14.69  ...                             0.013421\n",
            "1          13.17  ...                             0.011169\n",
            "2          12.95  ...                             0.017824\n",
            "3          18.31  ...                             0.010222\n",
            "4          15.13  ...                             0.017415\n",
            "..           ...  ...                                  ...\n",
            "394        11.43  ...                             0.031996\n",
            "395        16.65  ...                             0.004720\n",
            "396        15.28  ...                             0.010516\n",
            "397        15.12  ...                             0.010376\n",
            "398        18.45  ...                             0.008265\n",
            "\n",
            "[399 rows x 35 columns] \n",
            "\n",
            " ************************************************************\n"
          ],
          "name": "stdout"
        }
      ]
    },
    {
      "cell_type": "markdown",
      "metadata": {
        "id": "7-KrR3pFstWy",
        "colab_type": "text"
      },
      "source": [
        "gml.Auto_Feature_Engineering這個函數自動新增6個features於new_X與new_Test_X。"
      ]
    },
    {
      "cell_type": "code",
      "metadata": {
        "id": "HiBfgWerqldW",
        "colab_type": "code",
        "colab": {
          "base_uri": "https://localhost:8080/",
          "height": 50
        },
        "outputId": "122ded4c-b5a6-47ce-e2fd-52d9b965b382"
      },
      "source": [
        "print(new_X.shape)\n",
        "print(new_Test_X.shape)"
      ],
      "execution_count": null,
      "outputs": [
        {
          "output_type": "stream",
          "text": [
            "(170, 36)\n",
            "(399, 36)\n"
          ],
          "name": "stdout"
        }
      ]
    },
    {
      "cell_type": "markdown",
      "metadata": {
        "id": "f1aer8vpumgI",
        "colab_type": "text"
      },
      "source": [
        "稍微預覽一下他新增了哪些變數。"
      ]
    },
    {
      "cell_type": "code",
      "metadata": {
        "id": "sju3E98luTvR",
        "colab_type": "code",
        "colab": {
          "base_uri": "https://localhost:8080/",
          "height": 249
        },
        "outputId": "fef06f0f-44f5-422b-b8d6-24b716328b91"
      },
      "source": [
        "new_X.head()"
      ],
      "execution_count": null,
      "outputs": [
        {
          "output_type": "execute_result",
          "data": {
            "text/html": [
              "<div>\n",
              "<style scoped>\n",
              "    .dataframe tbody tr th:only-of-type {\n",
              "        vertical-align: middle;\n",
              "    }\n",
              "\n",
              "    .dataframe tbody tr th {\n",
              "        vertical-align: top;\n",
              "    }\n",
              "\n",
              "    .dataframe thead th {\n",
              "        text-align: right;\n",
              "    }\n",
              "</style>\n",
              "<table border=\"1\" class=\"dataframe\">\n",
              "  <thead>\n",
              "    <tr style=\"text-align: right;\">\n",
              "      <th></th>\n",
              "      <th>mean radius</th>\n",
              "      <th>mean texture</th>\n",
              "      <th>mean perimeter</th>\n",
              "      <th>mean area</th>\n",
              "      <th>mean smoothness</th>\n",
              "      <th>mean compactness</th>\n",
              "      <th>mean concavity</th>\n",
              "      <th>mean concave points</th>\n",
              "      <th>mean symmetry</th>\n",
              "      <th>mean fractal dimension</th>\n",
              "      <th>radius error</th>\n",
              "      <th>texture error</th>\n",
              "      <th>perimeter error</th>\n",
              "      <th>area error</th>\n",
              "      <th>smoothness error</th>\n",
              "      <th>compactness error</th>\n",
              "      <th>concavity error</th>\n",
              "      <th>concave points error</th>\n",
              "      <th>symmetry error</th>\n",
              "      <th>fractal dimension error</th>\n",
              "      <th>worst radius</th>\n",
              "      <th>worst texture</th>\n",
              "      <th>worst perimeter</th>\n",
              "      <th>worst area</th>\n",
              "      <th>worst smoothness</th>\n",
              "      <th>worst compactness</th>\n",
              "      <th>worst concavity</th>\n",
              "      <th>worst concave points</th>\n",
              "      <th>worst symmetry</th>\n",
              "      <th>worst fractal dimension</th>\n",
              "      <th>sqrt(worsttexture)*log(areaerror)</th>\n",
              "      <th>exp(worstsymmetry)*log(worstarea)</th>\n",
              "      <th>1/(meansmoothness*worstperimeter)</th>\n",
              "      <th>sqrt(meanconcavepoints)*worsttexture</th>\n",
              "      <th>meanradius/worstperimeter</th>\n",
              "      <th>1/(worstarea*worstfractaldimension)</th>\n",
              "    </tr>\n",
              "  </thead>\n",
              "  <tbody>\n",
              "    <tr>\n",
              "      <th>0</th>\n",
              "      <td>10.510</td>\n",
              "      <td>23.09</td>\n",
              "      <td>66.85</td>\n",
              "      <td>334.2</td>\n",
              "      <td>0.10150</td>\n",
              "      <td>0.06797</td>\n",
              "      <td>0.02495</td>\n",
              "      <td>0.018750</td>\n",
              "      <td>0.1695</td>\n",
              "      <td>0.06556</td>\n",
              "      <td>0.2868</td>\n",
              "      <td>1.1430</td>\n",
              "      <td>2.289</td>\n",
              "      <td>20.56</td>\n",
              "      <td>0.01017</td>\n",
              "      <td>0.01443</td>\n",
              "      <td>0.01861</td>\n",
              "      <td>0.012500</td>\n",
              "      <td>0.03464</td>\n",
              "      <td>0.001971</td>\n",
              "      <td>10.930</td>\n",
              "      <td>24.22</td>\n",
              "      <td>70.10</td>\n",
              "      <td>362.7</td>\n",
              "      <td>0.1143</td>\n",
              "      <td>0.08614</td>\n",
              "      <td>0.04158</td>\n",
              "      <td>0.03125</td>\n",
              "      <td>0.2227</td>\n",
              "      <td>0.06777</td>\n",
              "      <td>14.879047</td>\n",
              "      <td>7.363703</td>\n",
              "      <td>0.140545</td>\n",
              "      <td>3.316460</td>\n",
              "      <td>0.149929</td>\n",
              "      <td>0.040683</td>\n",
              "    </tr>\n",
              "    <tr>\n",
              "      <th>1</th>\n",
              "      <td>8.950</td>\n",
              "      <td>15.76</td>\n",
              "      <td>58.74</td>\n",
              "      <td>245.2</td>\n",
              "      <td>0.09462</td>\n",
              "      <td>0.12430</td>\n",
              "      <td>0.09263</td>\n",
              "      <td>0.023080</td>\n",
              "      <td>0.1305</td>\n",
              "      <td>0.07163</td>\n",
              "      <td>0.3132</td>\n",
              "      <td>0.9789</td>\n",
              "      <td>3.280</td>\n",
              "      <td>16.94</td>\n",
              "      <td>0.01835</td>\n",
              "      <td>0.06760</td>\n",
              "      <td>0.09263</td>\n",
              "      <td>0.023080</td>\n",
              "      <td>0.02384</td>\n",
              "      <td>0.005601</td>\n",
              "      <td>9.414</td>\n",
              "      <td>17.07</td>\n",
              "      <td>63.34</td>\n",
              "      <td>270.0</td>\n",
              "      <td>0.1179</td>\n",
              "      <td>0.18790</td>\n",
              "      <td>0.15440</td>\n",
              "      <td>0.03846</td>\n",
              "      <td>0.1652</td>\n",
              "      <td>0.07722</td>\n",
              "      <td>11.691056</td>\n",
              "      <td>6.604061</td>\n",
              "      <td>0.166855</td>\n",
              "      <td>2.593292</td>\n",
              "      <td>0.141301</td>\n",
              "      <td>0.047963</td>\n",
              "    </tr>\n",
              "    <tr>\n",
              "      <th>2</th>\n",
              "      <td>28.110</td>\n",
              "      <td>18.47</td>\n",
              "      <td>188.50</td>\n",
              "      <td>2499.0</td>\n",
              "      <td>0.11420</td>\n",
              "      <td>0.15160</td>\n",
              "      <td>0.32010</td>\n",
              "      <td>0.159500</td>\n",
              "      <td>0.1648</td>\n",
              "      <td>0.05525</td>\n",
              "      <td>2.8730</td>\n",
              "      <td>1.4760</td>\n",
              "      <td>21.980</td>\n",
              "      <td>525.60</td>\n",
              "      <td>0.01345</td>\n",
              "      <td>0.02772</td>\n",
              "      <td>0.06389</td>\n",
              "      <td>0.014070</td>\n",
              "      <td>0.04783</td>\n",
              "      <td>0.004476</td>\n",
              "      <td>28.110</td>\n",
              "      <td>18.47</td>\n",
              "      <td>188.50</td>\n",
              "      <td>2499.0</td>\n",
              "      <td>0.1142</td>\n",
              "      <td>0.15160</td>\n",
              "      <td>0.32010</td>\n",
              "      <td>0.15950</td>\n",
              "      <td>0.1648</td>\n",
              "      <td>0.05525</td>\n",
              "      <td>26.922951</td>\n",
              "      <td>9.225309</td>\n",
              "      <td>0.046454</td>\n",
              "      <td>7.376447</td>\n",
              "      <td>0.149125</td>\n",
              "      <td>0.007243</td>\n",
              "    </tr>\n",
              "    <tr>\n",
              "      <th>3</th>\n",
              "      <td>9.683</td>\n",
              "      <td>19.34</td>\n",
              "      <td>61.05</td>\n",
              "      <td>285.7</td>\n",
              "      <td>0.08491</td>\n",
              "      <td>0.05030</td>\n",
              "      <td>0.02337</td>\n",
              "      <td>0.009615</td>\n",
              "      <td>0.1580</td>\n",
              "      <td>0.06235</td>\n",
              "      <td>0.2957</td>\n",
              "      <td>1.3630</td>\n",
              "      <td>2.054</td>\n",
              "      <td>18.24</td>\n",
              "      <td>0.00744</td>\n",
              "      <td>0.01123</td>\n",
              "      <td>0.02337</td>\n",
              "      <td>0.009615</td>\n",
              "      <td>0.02203</td>\n",
              "      <td>0.004154</td>\n",
              "      <td>10.930</td>\n",
              "      <td>25.59</td>\n",
              "      <td>69.10</td>\n",
              "      <td>364.2</td>\n",
              "      <td>0.1199</td>\n",
              "      <td>0.09546</td>\n",
              "      <td>0.09350</td>\n",
              "      <td>0.03846</td>\n",
              "      <td>0.2552</td>\n",
              "      <td>0.07920</td>\n",
              "      <td>14.688399</td>\n",
              "      <td>7.612282</td>\n",
              "      <td>0.170437</td>\n",
              "      <td>2.509256</td>\n",
              "      <td>0.140130</td>\n",
              "      <td>0.034668</td>\n",
              "    </tr>\n",
              "    <tr>\n",
              "      <th>4</th>\n",
              "      <td>9.333</td>\n",
              "      <td>21.94</td>\n",
              "      <td>59.01</td>\n",
              "      <td>264.0</td>\n",
              "      <td>0.09240</td>\n",
              "      <td>0.05605</td>\n",
              "      <td>0.03996</td>\n",
              "      <td>0.012820</td>\n",
              "      <td>0.1692</td>\n",
              "      <td>0.06576</td>\n",
              "      <td>0.3013</td>\n",
              "      <td>1.8790</td>\n",
              "      <td>2.121</td>\n",
              "      <td>17.86</td>\n",
              "      <td>0.01094</td>\n",
              "      <td>0.01834</td>\n",
              "      <td>0.03996</td>\n",
              "      <td>0.012820</td>\n",
              "      <td>0.03759</td>\n",
              "      <td>0.004623</td>\n",
              "      <td>9.845</td>\n",
              "      <td>25.05</td>\n",
              "      <td>62.86</td>\n",
              "      <td>295.8</td>\n",
              "      <td>0.1103</td>\n",
              "      <td>0.08298</td>\n",
              "      <td>0.07993</td>\n",
              "      <td>0.02564</td>\n",
              "      <td>0.2435</td>\n",
              "      <td>0.07393</td>\n",
              "      <td>14.427223</td>\n",
              "      <td>7.258365</td>\n",
              "      <td>0.172168</td>\n",
              "      <td>2.836297</td>\n",
              "      <td>0.148473</td>\n",
              "      <td>0.045728</td>\n",
              "    </tr>\n",
              "  </tbody>\n",
              "</table>\n",
              "</div>"
            ],
            "text/plain": [
              "   mean radius  ...  1/(worstarea*worstfractaldimension)\n",
              "0       10.510  ...                             0.040683\n",
              "1        8.950  ...                             0.047963\n",
              "2       28.110  ...                             0.007243\n",
              "3        9.683  ...                             0.034668\n",
              "4        9.333  ...                             0.045728\n",
              "\n",
              "[5 rows x 36 columns]"
            ]
          },
          "metadata": {
            "tags": []
          },
          "execution_count": 8
        }
      ]
    },
    {
      "cell_type": "markdown",
      "metadata": {
        "id": "azDz-ZZwszGV",
        "colab_type": "text"
      },
      "source": [
        "## GML: Auto Machine Learning (Classification) \n",
        "在AUTO Machine Learning中，將進行兩輪競爭，第一輪所有模型將利用5-folds cv的準確率爭奪前5名，第二輪競爭時，前5名的模型將再競爭一次.並最終推薦排名第一的模型。"
      ]
    },
    {
      "cell_type": "code",
      "metadata": {
        "id": "9lFACI5HrB6q",
        "colab_type": "code",
        "colab": {
          "base_uri": "https://localhost:8080/",
          "height": 1000
        },
        "outputId": "3f86a1ca-f471-4524-b354-f0646914a57d"
      },
      "source": [
        "from sklearn.neural_network import MLPClassifier\n",
        "best_model = gml.GMLClassifier(new_X,y,neural_net='Yes',epochs=100,models=[MLPClassifier()],verbose=False)"
      ],
      "execution_count": null,
      "outputs": [
        {
          "output_type": "stream",
          "text": [
            "Model  LogisticRegressionCV  got validation accuracy of  0.9607843137254902\n",
            "Model  LogisticRegression  got validation accuracy of  0.9607843137254902\n",
            "Model  SVC  got validation accuracy of  0.9607843137254902\n",
            "Model  DecisionTreeClassifier  got validation accuracy of  1.0\n",
            "Model  KNeighborsClassifier  got validation accuracy of  0.9607843137254902\n",
            "Model  SGDClassifier  got validation accuracy of  0.9215686274509803\n",
            "Model  RandomForestClassifier  got validation accuracy of  1.0\n",
            "Model  AdaBoostClassifier  got validation accuracy of  1.0\n",
            "Model  ExtraTreesClassifier  got validation accuracy of  0.9607843137254902\n",
            "Model  XGBClassifier  got validation accuracy of  0.9803921568627451\n",
            "Model  LGBMClassifier  got validation accuracy of  0.9411764705882353\n",
            "Model  CatBoostClassifier  got validation accuracy of  0.9803921568627451\n",
            "Model  GradientBoostingClassifier  got validation accuracy of  0.9803921568627451\n",
            "Model  NaiveBayesGaussian  got validation accuracy of  0.9411764705882353\n",
            "Model  MLPClassifier  got validation accuracy of  0.9803921568627451\n",
            "\n",
            " **************************************** \n",
            "Training Neural Network\n",
            " ****************************************\n",
            "Neural Network got validation accuracy of  0.9803921568627451\n",
            "Model: \"sequential_3\"\n",
            "_________________________________________________________________\n",
            "Layer (type)                 Output Shape              Param #   \n",
            "=================================================================\n",
            "dense_12 (Dense)             (None, 256)               9216      \n",
            "_________________________________________________________________\n",
            "dropout_6 (Dropout)          (None, 256)               0         \n",
            "_________________________________________________________________\n",
            "dense_13 (Dense)             (None, 128)               32896     \n",
            "_________________________________________________________________\n",
            "dropout_7 (Dropout)          (None, 128)               0         \n",
            "_________________________________________________________________\n",
            "dense_14 (Dense)             (None, 64)                8256      \n",
            "_________________________________________________________________\n",
            "dense_15 (Dense)             (None, 2)                 130       \n",
            "=================================================================\n",
            "Total params: 50,498\n",
            "Trainable params: 50,498\n",
            "Non-trainable params: 0\n",
            "_________________________________________________________________\n",
            "None\n",
            "\n",
            " ************************************************************ \n",
            "Round One Results\n",
            " ************************************************************ \n",
            "                         Model  Val_Accuracy  CV on 5 folds\n",
            "0                         SVC      0.960784       0.982353\n",
            "0      DecisionTreeClassifier      1.000000       0.982353\n",
            "0      RandomForestClassifier      1.000000       0.982353\n",
            "0          AdaBoostClassifier      1.000000       0.982353\n",
            "0               XGBClassifier      0.980392       0.982353\n",
            "0          CatBoostClassifier      0.980392       0.982353\n",
            "0  GradientBoostingClassifier      0.980392       0.982353\n",
            "0               MLPClassifier      0.980392       0.982353\n",
            "0              Neural Network      0.980392       0.980392\n",
            "0          LogisticRegression      0.960784       0.976471\n",
            "0        ExtraTreesClassifier      0.960784       0.976471\n",
            "0              LGBMClassifier      0.941176       0.976471\n",
            "0        LogisticRegressionCV      0.960784       0.970588\n",
            "0        KNeighborsClassifier      0.960784       0.970588\n",
            "0          NaiveBayesGaussian      0.941176       0.964706\n",
            "0               SGDClassifier      0.921569       0.947059 \n",
            " ************************************************************\n",
            "Model  SVC  got validation accuracy of  0.9607843137254902\n",
            "Model  DecisionTreeClassifier  got validation accuracy of  1.0\n",
            "Model  RandomForestClassifier  got validation accuracy of  1.0\n",
            "Model  AdaBoostClassifier  got validation accuracy of  1.0\n",
            "Model  XGBClassifier  got validation accuracy of  0.9803921568627451\n",
            "\n",
            " ************************************************************ \n",
            "Round Two Results\n",
            " ************************************************************ \n",
            "                     Model  Val_Accuracy  CV on 5 folds\n",
            "0                     SVC      0.960784       0.982353\n",
            "0  RandomForestClassifier      1.000000       0.982353\n",
            "0      AdaBoostClassifier      1.000000       0.982353\n",
            "0           XGBClassifier      0.980392       0.982353\n",
            "0  DecisionTreeClassifier      1.000000       0.976471 \n",
            " ************************************************************\n",
            "\n",
            "\n",
            " **************************************** \n",
            "Suggested Models for Stacking\n",
            " **************************************** \n",
            " 0                       SVC\n",
            "0    RandomForestClassifier\n",
            "0        AdaBoostClassifier\n",
            "Name: Model, dtype: object\n",
            "**************************************** \n",
            " PLEASE NOTE: these results are calculated using  <function accuracy_score at 0x7f70d915d378>\n"
          ],
          "name": "stdout"
        }
      ]
    },
    {
      "cell_type": "markdown",
      "metadata": {
        "id": "d4nZTZAls5fj",
        "colab_type": "text"
      },
      "source": [
        "最終GML推薦我們使用SVC,RandomForestClassifier,Sequential來建立stacking模型。  \n",
        "我們來看看最終best_model:Sequential的超參數為哪些。"
      ]
    },
    {
      "cell_type": "code",
      "metadata": {
        "id": "C7dCnU5drR3f",
        "colab_type": "code",
        "colab": {
          "base_uri": "https://localhost:8080/",
          "height": 84
        },
        "outputId": "2aee0837-f9b0-404c-8836-a88dc78c9fab"
      },
      "source": [
        "best_model"
      ],
      "execution_count": null,
      "outputs": [
        {
          "output_type": "execute_result",
          "data": {
            "text/plain": [
              "SVC(C=1.0, break_ties=False, cache_size=200, class_weight=None, coef0=0.0,\n",
              "    decision_function_shape='ovr', degree=3, gamma='scale', kernel='rbf',\n",
              "    max_iter=-1, probability=False, random_state=None, shrinking=True,\n",
              "    tol=0.001, verbose=False)"
            ]
          },
          "metadata": {
            "tags": []
          },
          "execution_count": 168
        }
      ]
    },
    {
      "cell_type": "markdown",
      "metadata": {
        "id": "SY4ZSpVOuvvu",
        "colab_type": "text"
      },
      "source": [
        "## GML Test"
      ]
    },
    {
      "cell_type": "markdown",
      "metadata": {
        "id": "JJVM32QgvTnI",
        "colab_type": "text"
      },
      "source": [
        "將GML新增變數後的data匯入模型中訓練，最後將測試集(也利用GML新增變數後)的資料匯入模型當中做預測，看看效果如何。"
      ]
    },
    {
      "cell_type": "code",
      "metadata": {
        "id": "PVGdDdQYrVPO",
        "colab_type": "code",
        "colab": {
          "base_uri": "https://localhost:8080/",
          "height": 34
        },
        "outputId": "5fbb981a-ec50-4128-a390-80ab8091c873"
      },
      "source": [
        "clf = best_model.fit(new_X,y)\n",
        "\n",
        "from sklearn.metrics import accuracy_score\n",
        "accuracy_score(y_test, clf.predict(new_Test_X))"
      ],
      "execution_count": null,
      "outputs": [
        {
          "output_type": "execute_result",
          "data": {
            "text/plain": [
              "0.9147869674185464"
            ]
          },
          "metadata": {
            "tags": []
          },
          "execution_count": 248
        }
      ]
    },
    {
      "cell_type": "markdown",
      "metadata": {
        "id": "7nXZs8bEv1sj",
        "colab_type": "text"
      },
      "source": [
        "這個準確率好像還好，試試看用原始train data或其他方法來建模看看效果如何。"
      ]
    },
    {
      "cell_type": "code",
      "metadata": {
        "id": "-fuJ83UIxLnL",
        "colab_type": "code",
        "colab": {
          "base_uri": "https://localhost:8080/",
          "height": 34
        },
        "outputId": "c810002f-66ca-475b-e30f-48cb9ed2ebe0"
      },
      "source": [
        "# 使用GML補值後的train data\n",
        "from sklearn.ensemble import RandomForestClassifier\n",
        "rf_model = GaussianNB()\n",
        "rf_clf = rf_model.fit(new_X,y)\n",
        "accuracy_score(y_test, rf_clf.predict(new_Test_X))"
      ],
      "execution_count": null,
      "outputs": [
        {
          "output_type": "execute_result",
          "data": {
            "text/plain": [
              "0.9573934837092731"
            ]
          },
          "metadata": {
            "tags": []
          },
          "execution_count": 267
        }
      ]
    },
    {
      "cell_type": "code",
      "metadata": {
        "id": "VZcmhuODwDx8",
        "colab_type": "code",
        "colab": {
          "base_uri": "https://localhost:8080/",
          "height": 34
        },
        "outputId": "bd6b2fe8-d79a-4410-c718-2301b1529ee1"
      },
      "source": [
        "# 使用原始train data\n",
        "rf_model = GaussianNB()\n",
        "rf_clf = rf_model.fit(X_train,y)\n",
        "accuracy_score(y_test, rf_clf.predict(X_test))"
      ],
      "execution_count": null,
      "outputs": [
        {
          "output_type": "execute_result",
          "data": {
            "text/plain": [
              "0.9298245614035088"
            ]
          },
          "metadata": {
            "tags": []
          },
          "execution_count": 268
        }
      ]
    },
    {
      "cell_type": "code",
      "metadata": {
        "id": "j-bt4TW_ek1d",
        "colab_type": "code",
        "colab": {
          "base_uri": "https://localhost:8080/",
          "height": 168
        },
        "outputId": "e2e50665-a66c-4235-9f9b-368a56390226"
      },
      "source": [
        "# 使用GML補值後的train data 建立stacking model\n",
        "from sklearn import model_selection\n",
        "from sklearn import svm\n",
        "from sklearn import tree\n",
        "from sklearn.linear_model import LogisticRegression\n",
        "from sklearn.neighbors import KNeighborsClassifier\n",
        "from sklearn.naive_bayes import GaussianNB \n",
        "from sklearn.ensemble import RandomForestClassifier,AdaBoostClassifier\n",
        "from mlxtend.classifier import StackingClassifier\n",
        "import numpy as np\n",
        "\n",
        "clf1 = best_model\n",
        "clf2 = RandomForestClassifier()\n",
        "clf3 = AdaBoostClassifier()\n",
        "\n",
        "lr = LogisticRegression()\n",
        "sclf = StackingClassifier(classifiers=[clf1, clf2 ,clf3], meta_classifier= lr)\n",
        "\n",
        "print('5-fold cross validation:\\n')\n",
        "for clf, label in zip([clf1, clf2, clf3, sclf], ['best_model','RandomForestClassifier','AdaBoostClassifier','StackingClassifier']):\n",
        "    scores = model_selection.cross_val_score(clf, new_X,y, cv=5, scoring='accuracy')\n",
        "    print(\"Cross validation accuracy: %0.2f (+/- %0.2f) [%s]\" % (scores.mean(), scores.std(), label))\n",
        "\n",
        "print(\"\\n\")\n",
        "stack_clf = sclf.fit(new_X,y)\n",
        "accuracy_score(y_test, stack_clf.predict(new_Test_X))"
      ],
      "execution_count": null,
      "outputs": [
        {
          "output_type": "stream",
          "text": [
            "5-fold cross validation:\n",
            "\n",
            "Cross validation accuracy: 0.92 (+/- 0.04) [best_model]\n",
            "Cross validation accuracy: 0.98 (+/- 0.01) [RandomForestClassifier]\n",
            "Cross validation accuracy: 0.98 (+/- 0.02) [AdaBoostClassifier]\n",
            "Cross validation accuracy: 0.98 (+/- 0.02) [StackingClassifier]\n",
            "\n",
            "\n"
          ],
          "name": "stdout"
        },
        {
          "output_type": "execute_result",
          "data": {
            "text/plain": [
              "0.9548872180451128"
            ]
          },
          "metadata": {
            "tags": []
          },
          "execution_count": 259
        }
      ]
    },
    {
      "cell_type": "markdown",
      "metadata": {
        "id": "jds9PJLazBGY",
        "colab_type": "text"
      },
      "source": [
        "# Conclusion\n"
      ]
    },
    {
      "cell_type": "markdown",
      "metadata": {
        "id": "h5JvgHQQzSCj",
        "colab_type": "text"
      },
      "source": [
        "在自動特徵工程中所自動生成的交互作用項，都有不錯的效果(這次實驗內)，以randomforest的情況為例，在使用new data訓練下的模型最終預測率大概比原始data的準確率高大約10%左右。\n",
        "\n",
        "而stacking模型效果則有點差強人意，可能之後拿其他data來嘗試看看。\n",
        "\n",
        "它可以快速處理資料、建立模型、挑選超參數、並有一定程度的預測準確率。\n"
      ]
    }
  ]
}